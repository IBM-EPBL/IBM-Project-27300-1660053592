{
 "cells": [
  {
   "cell_type": "code",
   "execution_count": null,
   "id": "a6ad8199",
   "metadata": {},
   "outputs": [],
   "source": [
    "#Importing the necessary libraries\n",
    "import numpy as np\n",
    "import pandas as pd\n",
    "import matplotlib.pyplot as plt\n",
    "import seaborn as sns\n",
    "%matplotlib inline"
   ]
  },
  {
   "cell_type": "code",
   "execution_count": null,
   "id": "2d6bab77",
   "metadata": {},
   "outputs": [],
   "source": [
    "#Loading the dataset\n",
    "df = pd.read_csv(\"flightdata.csv\")\n",
    "pd.set_option('display.max_columns', None)\n",
    "df.head()"
   ]
  },
  {
   "cell_type": "code",
   "execution_count": null,
   "id": "d5f5528c",
   "metadata": {},
   "outputs": [],
   "source": [
    "#Dropping unnecessary columns\n",
    "df.drop('Unnamed: 25', axis = 1, inplace = True)"
   ]
  },
  {
   "cell_type": "code",
   "execution_count": null,
   "id": "76bb28a5",
   "metadata": {},
   "outputs": [],
   "source": [
    "#Dataset Info\n",
    "df.info()"
   ]
  },
  {
   "cell_type": "code",
   "execution_count": null,
   "id": "3fd2afa9",
   "metadata": {},
   "outputs": [],
   "source": [
    "#Handling missing values\n",
    "df.isnull().sum()"
   ]
  },
  {
   "cell_type": "code",
   "execution_count": null,
   "id": "8f248142",
   "metadata": {},
   "outputs": [],
   "source": [
    "#Dropping the missing values\n",
    "df.dropna(subset=['DEP_TIME','ARR_DELAY'], inplace = True)"
   ]
  },
  {
   "cell_type": "code",
   "execution_count": null,
   "id": "4d1feef0",
   "metadata": {},
   "outputs": [],
   "source": [
    "df.isnull().sum()"
   ]
  },
  {
   "cell_type": "code",
   "execution_count": null,
   "id": "27d27c42",
   "metadata": {},
   "outputs": [],
   "source": [
    "df.shape"
   ]
  },
  {
   "cell_type": "code",
   "execution_count": null,
   "id": "9ba64565",
   "metadata": {},
   "outputs": [],
   "source": [
    "#Data Visualization\n",
    "ax = sns.countplot(y = df['ORIGIN'], order = df['ORIGIN'].value_counts().index);\n",
    "ax.set_title(\"Airports w.r.t Depature Flights\", fontsize = 16);\n",
    "ax.set_xlabel(\"Number of Flights\", fontsize = 14);\n",
    "ax.set_ylabel(\"Airport Code\", fontsize = 14);\n",
    "ax.bar_label(ax.containers[0], label_type = 'center', color = 'white', size = 14);"
   ]
  },
  {
   "cell_type": "code",
   "execution_count": null,
   "id": "9d175ccb",
   "metadata": {},
   "outputs": [],
   "source": [
    "ax = sns.countplot(y = df['DEST'], order = df['DEST'].value_counts().index);\n",
    "ax.set_title(\"Airports w.r.t Arrival Flights\", fontsize = 16);\n",
    "ax.set_xlabel(\"Number of Flights\", fontsize = 14);\n",
    "ax.set_ylabel(\"Airport Code\", fontsize = 14);\n",
    "ax.bar_label(ax.containers[0], label_type = 'center', color = 'white', size = 14);"
   ]
  },
  {
   "cell_type": "code",
   "execution_count": null,
   "id": "53275735",
   "metadata": {},
   "outputs": [],
   "source": [
    "fig, ax = plt.subplots(1, 2, figsize = (10,10))\n",
    "ax[0].pie(df['DEP_DEL15'].value_counts(), labels = ['On Time', 'Delayed'], autopct = '%1.2f%%',startangle = 90, explode = (0,0.1));\n",
    "ax[0].title.set_text(\"Ratio of Delayed Departure Flights\");\n",
    "ax[1].pie(df['ARR_DEL15'].value_counts(), labels = ['On Time','Delayed'], autopct = '%1.2f%%',startangle = 90, explode = (0,0.1));\n",
    "ax[1].title.set_text(\"Ratio of Delayed Arrival Flights\");"
   ]
  },
  {
   "cell_type": "code",
   "execution_count": null,
   "id": "6aa1d6b7",
   "metadata": {},
   "outputs": [],
   "source": [
    "sns.heatmap(df.corr());"
   ]
  },
  {
   "cell_type": "code",
   "execution_count": null,
   "id": "66e14107",
   "metadata": {},
   "outputs": [],
   "source": [
    "new_df = pd.get_dummies(df, columns = ['ORIGIN','DEST'])"
   ]
  },
  {
   "cell_type": "code",
   "execution_count": null,
   "id": "06bff232",
   "metadata": {},
   "outputs": [],
   "source": [
    "new_df.head()"
   ]
  },
  {
   "cell_type": "code",
   "execution_count": null,
   "id": "936f49ab",
   "metadata": {},
   "outputs": [],
   "source": [
    "#Splitting into independant and dependant values\n",
    "X = new_df[['MONTH','DAY_OF_MONTH','DAY_OF_WEEK','ORIGIN_ATL','ORIGIN_DTW','ORIGIN_JFK','ORIGIN_MSP','ORIGIN_SEA','DEST_ATL','DEST_DTW','DEST_JFK','DEST_MSP','DEST_SEA','CRS_DEP_TIME','DEP_TIME','DEP_DEL15','CRS_ARR_TIME']]\n",
    "y = new_df['ARR_DEL15']"
   ]
  },
  {
   "cell_type": "code",
   "execution_count": null,
   "id": "bb2eb4cc",
   "metadata": {},
   "outputs": [],
   "source": [
    "X.head()"
   ]
  },
  {
   "cell_type": "code",
   "execution_count": null,
   "id": "f1cdaf0e",
   "metadata": {},
   "outputs": [],
   "source": [
    "y.head()"
   ]
  },
  {
   "cell_type": "code",
   "execution_count": null,
   "id": "1cfa448a",
   "metadata": {},
   "outputs": [],
   "source": [
    "X.shape"
   ]
  },
  {
   "cell_type": "code",
   "execution_count": null,
   "id": "2fff39ec",
   "metadata": {},
   "outputs": [],
   "source": [
    "y.shape"
   ]
  },
  {
   "cell_type": "code",
   "execution_count": null,
   "id": "70f13bd5",
   "metadata": {},
   "outputs": [],
   "source": [
    "#Splitting into training and testing data\n",
    "from sklearn.model_selection import train_test_split\n",
    "X_train, X_test, y_train, y_test = train_test_split(X, y, test_size = 0.30)"
   ]
  },
  {
   "cell_type": "code",
   "execution_count": null,
   "id": "3daba979",
   "metadata": {},
   "outputs": [],
   "source": [
    "#Model Building \n",
    "from sklearn.tree import DecisionTreeClassifier\n",
    "clf = DecisionTreeClassifier(max_depth = 4, min_samples_split = 4, random_state = 25)"
   ]
  },
  {
   "cell_type": "code",
   "execution_count": null,
   "id": "b744edb8",
   "metadata": {},
   "outputs": [],
   "source": [
    "#Model Training\n",
    "clf.fit(X_train, y_train)"
   ]
  },
  {
   "cell_type": "code",
   "execution_count": null,
   "id": "363778e8",
   "metadata": {},
   "outputs": [],
   "source": [
    "pred = clf.predict(X_test)"
   ]
  },
  {
   "cell_type": "code",
   "execution_count": null,
   "id": "eb1641d3",
   "metadata": {},
   "outputs": [],
   "source": [
    "#Model Evaluation\n",
    "from sklearn.metrics import accuracy_score\n",
    "print(accuracy_score(y_test, pred))"
   ]
  },
  {
   "cell_type": "code",
   "execution_count": null,
   "id": "2f96c364",
   "metadata": {},
   "outputs": [],
   "source": [
    "clf.predict([[1,4,1,0,1,0,0,0,0,0,0,0,1,1215,1236,1,1420]])"
   ]
  },
  {
   "cell_type": "code",
   "execution_count": null,
   "id": "c87413d5",
   "metadata": {},
   "outputs": [],
   "source": [
    "#Saving the model\n",
    "import pickle\n",
    "pickle.dump(clf, open('flightclf.pkl','wb'))"
   ]
  },
  {
   "cell_type": "code",
   "execution_count": null,
   "id": "6cbaa975",
   "metadata": {},
   "outputs": [],
   "source": []
  }
 ],
 "metadata": {
  "kernelspec": {
   "display_name": "Python 3 (ipykernel)",
   "language": "python",
   "name": "python3"
  },
  "language_info": {
   "codemirror_mode": {
    "name": "ipython",
    "version": 3
   },
   "file_extension": ".py",
   "mimetype": "text/x-python",
   "name": "python",
   "nbconvert_exporter": "python",
   "pygments_lexer": "ipython3",
   "version": "3.9.13"
  }
 },
 "nbformat": 4,
 "nbformat_minor": 5
}
